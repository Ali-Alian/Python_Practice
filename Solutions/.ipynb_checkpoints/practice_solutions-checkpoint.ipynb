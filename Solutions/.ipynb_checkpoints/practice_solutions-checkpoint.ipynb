{
 "cells": [
  {
   "cell_type": "markdown",
   "metadata": {},
   "source": [
    "Removing the words which is repeated two times each after another Ex= **Familly => Family**"
   ]
  },
  {
   "cell_type": "code",
   "execution_count": null,
   "metadata": {},
   "outputs": [],
   "source": [
    "text = input(\"what is your text: \")\n",
    "text2 = []\n",
    "\n",
    "for i in range(1,len(text)):\n",
    "    \n",
    "    if text[i-1] == text[i]:\n",
    "        text2.append(text[i-1])\n",
    "        \n",
    "        new_list = list(text)\n",
    "\n",
    "for i in new_list:\n",
    "    for i in text2:\n",
    "        new_list.remove(i)\n",
    "        text2.remove(i)\n",
    "\n",
    "s = \"\"\n",
    "s = s.join(new_list)\n",
    "\n",
    "print(s)\n"
   ]
  },
  {
   "cell_type": "markdown",
   "metadata": {},
   "source": [
    "**Fibonacci Sequence**"
   ]
  },
  {
   "cell_type": "code",
   "execution_count": null,
   "metadata": {},
   "outputs": [],
   "source": [
    "a=int(input(\"Enter the terms\"))\n",
    "f=0                                       \n",
    "s=1                                         \n",
    "result = []\n",
    "x_list = []\n",
    "if a<=0:\n",
    "    print(\"The requested number is not valid\",f)\n",
    "else:\n",
    "    for x in range(2,a):\n",
    "        next=f+s\n",
    "\n",
    "        f=s\n",
    "        s=next\n",
    "        result.append(next)\n",
    "\n",
    "        x_list.append(x)\n",
    "f_result = []\n",
    "#f_result.append()\n",
    "#print(f_result)\n",
    "for i in x_list:\n",
    "    if i not in result:\n",
    "        f_result.append(i)      \n",
    "\n",
    "print(\"Fibonacci Sequence are: \",result)\n",
    "print(\"this number is not in the set: \",f_result)"
   ]
  },
  {
   "cell_type": "markdown",
   "metadata": {},
   "source": [
    "ToDo list with python"
   ]
  },
  {
   "cell_type": "code",
   "execution_count": null,
   "metadata": {},
   "outputs": [],
   "source": [
    "output = []\n",
    "while True:\n",
    "    print('''\n",
    "    Menu:\n",
    "    press 1 if you wish to add item to the list\n",
    "    press 2 if you wish to see the list\n",
    "    press 3 if you wish to delete the item in the list\n",
    "    ''')\n",
    "    input_number = int(input(\"\"))\n",
    "    if input_number == 1:      \n",
    "        data = input(\"write downe your story: \")\n",
    "        output.append(data)\n",
    "    \n",
    "    elif input_number == 2:\n",
    "        number = 0       \n",
    "        print(\"##### ToDO list contains of #####\")\n",
    "        for i in output:\n",
    "            number += 1\n",
    "            print(f'{number}. {i}')\n",
    "        print(\"##### End of ToDo list #####\")\n",
    "        \n",
    "    elif input_number == 3:\n",
    "        \n",
    "        num_list = len(output)\n",
    "        rm = int(input('which one you want to remove? '))\n",
    "        if rm > len(output):\n",
    "            print(f'There is only {num_list} item available ')\n",
    "        elif rm <= len(output):        \n",
    "            remove = output[rm-1]\n",
    "            output.remove(remove)\n",
    "    \n",
    "    else:\n",
    "        print(\"**WORK HARD**\")\n",
    "        break       \n"
   ]
  },
  {
   "cell_type": "code",
   "execution_count": null,
   "metadata": {},
   "outputs": [],
   "source": []
  },
  {
   "cell_type": "code",
   "execution_count": null,
   "metadata": {},
   "outputs": [],
   "source": []
  }
 ],
 "metadata": {
  "kernelspec": {
   "display_name": "Python 3",
   "language": "python",
   "name": "python3"
  },
  "language_info": {
   "codemirror_mode": {
    "name": "ipython",
    "version": 3
   },
   "file_extension": ".py",
   "mimetype": "text/x-python",
   "name": "python",
   "nbconvert_exporter": "python",
   "pygments_lexer": "ipython3",
   "version": "3.6.6"
  }
 },
 "nbformat": 4,
 "nbformat_minor": 2
}

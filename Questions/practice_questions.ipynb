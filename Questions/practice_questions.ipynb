{
 "cells": [
  {
   "cell_type": "markdown",
   "metadata": {},
   "source": [
    "write a code which will remove the word if it's repeated Ex= **Familly => Family**"
   ]
  },
  {
   "cell_type": "code",
   "execution_count": null,
   "metadata": {},
   "outputs": [],
   "source": []
  },
  {
   "cell_type": "markdown",
   "metadata": {},
   "source": [
    "**Fibonacci Sequence**\n",
    "\n",
    "Create a two list which shows all the number in fibonacci sequence and another list to show all the number which is not in fibonacci sequence "
   ]
  },
  {
   "cell_type": "markdown",
   "metadata": {},
   "source": [
    "Fibonacci number between 0 to 10 is: \n",
    "\n",
    "[1, 1, 2, 3, 5, 8, 13, 21, 34]\n",
    "\n",
    "number which is **not** in the fibonacci sequence form 0 to 10 :\n",
    "\n",
    "[4, 6, 7, 9]"
   ]
  },
  {
   "cell_type": "code",
   "execution_count": null,
   "metadata": {},
   "outputs": [],
   "source": []
  },
  {
   "cell_type": "markdown",
   "metadata": {},
   "source": [
    "Write Down a code for ToDo list which should have add a element delete the element and show all the list as well "
   ]
  },
  {
   "cell_type": "code",
   "execution_count": 2,
   "metadata": {},
   "outputs": [
    {
     "name": "stdout",
     "output_type": "stream",
     "text": [
      "\n",
      "    Menu:\n",
      "    press 1 if you wish to add item to the list\n",
      "    press 2 if you wish to see the list\n",
      "    press 3 if you wish to delete the item in the list\n",
      "    \n"
     ]
    },
    {
     "name": "stdin",
     "output_type": "stream",
     "text": [
      " 1\n",
      "write downe your story:  Read some books\n"
     ]
    },
    {
     "name": "stdout",
     "output_type": "stream",
     "text": [
      "\n",
      "    Menu:\n",
      "    press 1 if you wish to add item to the list\n",
      "    press 2 if you wish to see the list\n",
      "    press 3 if you wish to delete the item in the list\n",
      "    \n"
     ]
    },
    {
     "name": "stdin",
     "output_type": "stream",
     "text": [
      " 1\n",
      "write downe your story:  Do the homework\n"
     ]
    },
    {
     "name": "stdout",
     "output_type": "stream",
     "text": [
      "\n",
      "    Menu:\n",
      "    press 1 if you wish to add item to the list\n",
      "    press 2 if you wish to see the list\n",
      "    press 3 if you wish to delete the item in the list\n",
      "    \n"
     ]
    },
    {
     "name": "stdin",
     "output_type": "stream",
     "text": [
      " 1\n",
      "write downe your story:  study\n"
     ]
    },
    {
     "name": "stdout",
     "output_type": "stream",
     "text": [
      "\n",
      "    Menu:\n",
      "    press 1 if you wish to add item to the list\n",
      "    press 2 if you wish to see the list\n",
      "    press 3 if you wish to delete the item in the list\n",
      "    \n"
     ]
    },
    {
     "name": "stdin",
     "output_type": "stream",
     "text": [
      " 2\n"
     ]
    },
    {
     "name": "stdout",
     "output_type": "stream",
     "text": [
      "##### ToDO list contains of #####\n",
      "1. Read some books\n",
      "2. Do the homework\n",
      "3. study\n",
      "##### End of ToDo list #####\n",
      "\n",
      "    Menu:\n",
      "    press 1 if you wish to add item to the list\n",
      "    press 2 if you wish to see the list\n",
      "    press 3 if you wish to delete the item in the list\n",
      "    \n"
     ]
    },
    {
     "name": "stdin",
     "output_type": "stream",
     "text": [
      " 3\n",
      "which one you want to remove?  1\n"
     ]
    },
    {
     "name": "stdout",
     "output_type": "stream",
     "text": [
      "\n",
      "    Menu:\n",
      "    press 1 if you wish to add item to the list\n",
      "    press 2 if you wish to see the list\n",
      "    press 3 if you wish to delete the item in the list\n",
      "    \n"
     ]
    },
    {
     "name": "stdin",
     "output_type": "stream",
     "text": [
      " 2\n"
     ]
    },
    {
     "name": "stdout",
     "output_type": "stream",
     "text": [
      "##### ToDO list contains of #####\n",
      "1. Do the homework\n",
      "2. study\n",
      "##### End of ToDo list #####\n",
      "\n",
      "    Menu:\n",
      "    press 1 if you wish to add item to the list\n",
      "    press 2 if you wish to see the list\n",
      "    press 3 if you wish to delete the item in the list\n",
      "    \n"
     ]
    },
    {
     "name": "stdin",
     "output_type": "stream",
     "text": [
      " 4\n"
     ]
    },
    {
     "name": "stdout",
     "output_type": "stream",
     "text": [
      "**WORK HARD**\n"
     ]
    }
   ],
   "source": []
  },
  {
   "cell_type": "code",
   "execution_count": null,
   "metadata": {},
   "outputs": [],
   "source": []
  }
 ],
 "metadata": {
  "kernelspec": {
   "display_name": "Python 3",
   "language": "python",
   "name": "python3"
  },
  "language_info": {
   "codemirror_mode": {
    "name": "ipython",
    "version": 3
   },
   "file_extension": ".py",
   "mimetype": "text/x-python",
   "name": "python",
   "nbconvert_exporter": "python",
   "pygments_lexer": "ipython3",
   "version": "3.6.6"
  }
 },
 "nbformat": 4,
 "nbformat_minor": 2
}
